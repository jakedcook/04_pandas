{
 "cells": [
  {
   "cell_type": "markdown",
   "metadata": {},
   "source": [
    "### Note\n",
    "* Instructions have been included for each segment. You do not have to follow them exactly, but they are included to help you think through the steps."
   ]
  },
  {
   "cell_type": "code",
   "execution_count": 1,
   "metadata": {},
   "outputs": [
    {
     "data": {
      "text/plain": [
       "'/Users/jcook/00_Portfolio/04-pandasHW/HeroesOfPymoli'"
      ]
     },
     "execution_count": 1,
     "metadata": {},
     "output_type": "execute_result"
    }
   ],
   "source": [
    "# Dependencies and Setup\n",
    "import pandas as pd\n",
    "import os\n",
    "import numpy as np\n",
    "#check current directory for path \n",
    "os.getcwd()"
   ]
  },
  {
   "cell_type": "code",
   "execution_count": 2,
   "metadata": {},
   "outputs": [
    {
     "data": {
      "text/html": [
       "<div>\n",
       "<style scoped>\n",
       "    .dataframe tbody tr th:only-of-type {\n",
       "        vertical-align: middle;\n",
       "    }\n",
       "\n",
       "    .dataframe tbody tr th {\n",
       "        vertical-align: top;\n",
       "    }\n",
       "\n",
       "    .dataframe thead th {\n",
       "        text-align: right;\n",
       "    }\n",
       "</style>\n",
       "<table border=\"1\" class=\"dataframe\">\n",
       "  <thead>\n",
       "    <tr style=\"text-align: right;\">\n",
       "      <th></th>\n",
       "      <th>Purchase ID</th>\n",
       "      <th>SN</th>\n",
       "      <th>Age</th>\n",
       "      <th>Gender</th>\n",
       "      <th>Item ID</th>\n",
       "      <th>Item Name</th>\n",
       "      <th>Price</th>\n",
       "    </tr>\n",
       "  </thead>\n",
       "  <tbody>\n",
       "    <tr>\n",
       "      <th>0</th>\n",
       "      <td>0</td>\n",
       "      <td>Lisim78</td>\n",
       "      <td>20</td>\n",
       "      <td>Male</td>\n",
       "      <td>108</td>\n",
       "      <td>Extraction, Quickblade Of Trembling Hands</td>\n",
       "      <td>3.53</td>\n",
       "    </tr>\n",
       "    <tr>\n",
       "      <th>1</th>\n",
       "      <td>1</td>\n",
       "      <td>Lisovynya38</td>\n",
       "      <td>40</td>\n",
       "      <td>Male</td>\n",
       "      <td>143</td>\n",
       "      <td>Frenzied Scimitar</td>\n",
       "      <td>1.56</td>\n",
       "    </tr>\n",
       "    <tr>\n",
       "      <th>2</th>\n",
       "      <td>2</td>\n",
       "      <td>Ithergue48</td>\n",
       "      <td>24</td>\n",
       "      <td>Male</td>\n",
       "      <td>92</td>\n",
       "      <td>Final Critic</td>\n",
       "      <td>4.88</td>\n",
       "    </tr>\n",
       "    <tr>\n",
       "      <th>3</th>\n",
       "      <td>3</td>\n",
       "      <td>Chamassasya86</td>\n",
       "      <td>24</td>\n",
       "      <td>Male</td>\n",
       "      <td>100</td>\n",
       "      <td>Blindscythe</td>\n",
       "      <td>3.27</td>\n",
       "    </tr>\n",
       "    <tr>\n",
       "      <th>4</th>\n",
       "      <td>4</td>\n",
       "      <td>Iskosia90</td>\n",
       "      <td>23</td>\n",
       "      <td>Male</td>\n",
       "      <td>131</td>\n",
       "      <td>Fury</td>\n",
       "      <td>1.44</td>\n",
       "    </tr>\n",
       "  </tbody>\n",
       "</table>\n",
       "</div>"
      ],
      "text/plain": [
       "   Purchase ID             SN  Age Gender  Item ID  \\\n",
       "0            0        Lisim78   20   Male      108   \n",
       "1            1    Lisovynya38   40   Male      143   \n",
       "2            2     Ithergue48   24   Male       92   \n",
       "3            3  Chamassasya86   24   Male      100   \n",
       "4            4      Iskosia90   23   Male      131   \n",
       "\n",
       "                                   Item Name  Price  \n",
       "0  Extraction, Quickblade Of Trembling Hands   3.53  \n",
       "1                          Frenzied Scimitar   1.56  \n",
       "2                               Final Critic   4.88  \n",
       "3                                Blindscythe   3.27  \n",
       "4                                       Fury   1.44  "
      ]
     },
     "execution_count": 2,
     "metadata": {},
     "output_type": "execute_result"
    }
   ],
   "source": [
    "# File to Load (Remember to Change These)\n",
    "player_data = \"Resources/purchase_data.csv\"\n",
    "\n",
    "# Read Purchasing File and store into Pandas data frame\n",
    "purchase_data = pd.read_csv(player_data)\n",
    "purchase_data.head()"
   ]
  },
  {
   "cell_type": "markdown",
   "metadata": {},
   "source": [
    "## Player Count"
   ]
  },
  {
   "cell_type": "markdown",
   "metadata": {},
   "source": [
    "* Display the total number of players\n"
   ]
  },
  {
   "cell_type": "code",
   "execution_count": 44,
   "metadata": {},
   "outputs": [
    {
     "name": "stdout",
     "output_type": "stream",
     "text": [
      "576\n"
     ]
    },
    {
     "data": {
      "text/html": [
       "<div>\n",
       "<style scoped>\n",
       "    .dataframe tbody tr th:only-of-type {\n",
       "        vertical-align: middle;\n",
       "    }\n",
       "\n",
       "    .dataframe tbody tr th {\n",
       "        vertical-align: top;\n",
       "    }\n",
       "\n",
       "    .dataframe thead th {\n",
       "        text-align: right;\n",
       "    }\n",
       "</style>\n",
       "<table border=\"1\" class=\"dataframe\">\n",
       "  <thead>\n",
       "    <tr style=\"text-align: right;\">\n",
       "      <th></th>\n",
       "      <th>Total Players</th>\n",
       "    </tr>\n",
       "  </thead>\n",
       "  <tbody>\n",
       "    <tr>\n",
       "      <th>0</th>\n",
       "      <td>576</td>\n",
       "    </tr>\n",
       "  </tbody>\n",
       "</table>\n",
       "</div>"
      ],
      "text/plain": [
       "   Total Players\n",
       "0            576"
      ]
     },
     "execution_count": 44,
     "metadata": {},
     "output_type": "execute_result"
    }
   ],
   "source": [
    "#display the total number of players with count\n",
    "total_players  = purchase_data['SN'].nunique()\n",
    "print(total_players)\n",
    "total_p = {'Total Players': [total_players]}\n",
    "total_df = pd.DataFrame(total_p)\n",
    "total_df.head()"
   ]
  },
  {
   "cell_type": "markdown",
   "metadata": {},
   "source": [
    "## Purchasing Analysis (Total)"
   ]
  },
  {
   "cell_type": "markdown",
   "metadata": {},
   "source": [
    "* Run basic calculations to obtain number of unique items, average price, etc.\n",
    "\n",
    "\n",
    "* Create a summary data frame to hold the results\n",
    "\n",
    "\n",
    "* Optional: give the displayed data cleaner formatting\n",
    "\n",
    "\n",
    "* Display the summary data frame\n"
   ]
  },
  {
   "cell_type": "code",
   "execution_count": 45,
   "metadata": {
    "scrolled": true
   },
   "outputs": [
    {
     "data": {
      "text/html": [
       "<div>\n",
       "<style scoped>\n",
       "    .dataframe tbody tr th:only-of-type {\n",
       "        vertical-align: middle;\n",
       "    }\n",
       "\n",
       "    .dataframe tbody tr th {\n",
       "        vertical-align: top;\n",
       "    }\n",
       "\n",
       "    .dataframe thead th {\n",
       "        text-align: right;\n",
       "    }\n",
       "</style>\n",
       "<table border=\"1\" class=\"dataframe\">\n",
       "  <thead>\n",
       "    <tr style=\"text-align: right;\">\n",
       "      <th></th>\n",
       "      <th>Number of Unique Items</th>\n",
       "      <th>Average Price</th>\n",
       "      <th>Number of Purchases</th>\n",
       "      <th>Total Revenue</th>\n",
       "    </tr>\n",
       "  </thead>\n",
       "  <tbody>\n",
       "    <tr>\n",
       "      <th>0</th>\n",
       "      <td>179</td>\n",
       "      <td>3.05</td>\n",
       "      <td>780</td>\n",
       "      <td>2379.77</td>\n",
       "    </tr>\n",
       "  </tbody>\n",
       "</table>\n",
       "</div>"
      ],
      "text/plain": [
       "   Number of Unique Items Average Price  Number of Purchases  Total Revenue\n",
       "0                     179          3.05                  780        2379.77"
      ]
     },
     "execution_count": 45,
     "metadata": {},
     "output_type": "execute_result"
    }
   ],
   "source": [
    "import math \n",
    "\n",
    "#getting each item name \n",
    "uniqueItems = len(purchase_data['Item ID'].unique())\n",
    "\n",
    "\n",
    "#getting average item price\n",
    "averagePrice = purchase_data['Price'].mean()\n",
    "\n",
    "#getting number of total purchases\n",
    "purchaseTotal = purchase_data['Purchase ID'].count()\n",
    "\n",
    "\n",
    "#getting total revenue \n",
    "totalRevenue = purchase_data['Price'].sum()\n",
    "\n",
    "\n",
    "items = {'Number of Unique Items': [uniqueItems], 'Average Price': [\"%0.2f\" % averagePrice], \n",
    "         'Number of Purchases': [purchaseTotal], 'Total Revenue': [totalRevenue]}\n",
    "items_df = pd.DataFrame(items)\n",
    "items_df.head()"
   ]
  },
  {
   "cell_type": "markdown",
   "metadata": {},
   "source": [
    "## Gender Demographics"
   ]
  },
  {
   "cell_type": "markdown",
   "metadata": {},
   "source": [
    "* Percentage and Count of Male Players\n",
    "\n",
    "\n",
    "* Percentage and Count of Female Players\n",
    "\n",
    "\n",
    "* Percentage and Count of Other / Non-Disclosed\n",
    "\n",
    "\n"
   ]
  },
  {
   "cell_type": "code",
   "execution_count": 46,
   "metadata": {},
   "outputs": [
    {
     "data": {
      "text/html": [
       "<div>\n",
       "<style scoped>\n",
       "    .dataframe tbody tr th:only-of-type {\n",
       "        vertical-align: middle;\n",
       "    }\n",
       "\n",
       "    .dataframe tbody tr th {\n",
       "        vertical-align: top;\n",
       "    }\n",
       "\n",
       "    .dataframe thead th {\n",
       "        text-align: right;\n",
       "    }\n",
       "</style>\n",
       "<table border=\"1\" class=\"dataframe\">\n",
       "  <thead>\n",
       "    <tr style=\"text-align: right;\">\n",
       "      <th></th>\n",
       "      <th>Total Count</th>\n",
       "      <th>Percentage of Players</th>\n",
       "    </tr>\n",
       "    <tr>\n",
       "      <th>Gender</th>\n",
       "      <th></th>\n",
       "      <th></th>\n",
       "    </tr>\n",
       "  </thead>\n",
       "  <tbody>\n",
       "    <tr>\n",
       "      <th>Male</th>\n",
       "      <td>652</td>\n",
       "      <td>113.19</td>\n",
       "    </tr>\n",
       "    <tr>\n",
       "      <th>Female</th>\n",
       "      <td>113</td>\n",
       "      <td>19.62</td>\n",
       "    </tr>\n",
       "    <tr>\n",
       "      <th>Other / Non-Disclosed</th>\n",
       "      <td>15</td>\n",
       "      <td>2.60</td>\n",
       "    </tr>\n",
       "  </tbody>\n",
       "</table>\n",
       "</div>"
      ],
      "text/plain": [
       "                       Total Count  Percentage of Players\n",
       "Gender                                                   \n",
       "Male                           652                 113.19\n",
       "Female                         113                  19.62\n",
       "Other / Non-Disclosed           15                   2.60"
      ]
     },
     "execution_count": 46,
     "metadata": {},
     "output_type": "execute_result"
    }
   ],
   "source": [
    "#getting gender titles \n",
    "gender_titles = purchase_data['Gender'].value_counts()\n",
    "\n",
    "\n",
    "#getting total count of each gender \n",
    "male_df = purchase_data.loc[purchase_data['Gender']=='Male']\n",
    "total_male = male_df['Gender'].count()\n",
    "\n",
    "\n",
    "female_df = purchase_data.loc[purchase_data['Gender']=='Female']\n",
    "total_women = female_df['Gender'].count()\n",
    "\n",
    "other_df = purchase_data.loc[purchase_data['Gender']=='Other / Non-Disclosed']\n",
    "total_other = other_df['Gender'].count()\n",
    "\n",
    "\n",
    "percentage_man = ((total_male/total_players) *100.00).round(2) \n",
    "percentage_woman = ((total_women/total_players) *100.00).round(2)\n",
    "percentage_other = ((total_other/total_players) *100.00).round(2)\n",
    "\n",
    "\n",
    "gender = {'Gender':['Male','Female','Other / Non-Disclosed'], 'Total Count': [total_male, total_women, total_other], \n",
    "             'Percentage of Players': [percentage_man, percentage_woman, percentage_other]}\n",
    "gender_df = pd.DataFrame(gender).set_index('Gender')\n",
    "gender_df.head()"
   ]
  },
  {
   "cell_type": "markdown",
   "metadata": {},
   "source": [
    "\n",
    "## Purchasing Analysis (Gender)"
   ]
  },
  {
   "cell_type": "markdown",
   "metadata": {},
   "source": [
    "* Run basic calculations to obtain purchase count, avg. purchase price, avg. purchase total per person etc. by gender\n",
    "\n",
    "\n",
    "\n",
    "\n",
    "* Create a summary data frame to hold the results\n",
    "\n",
    "\n",
    "* Optional: give the displayed data cleaner formatting\n",
    "\n",
    "\n",
    "* Display the summary data frame"
   ]
  },
  {
   "cell_type": "code",
   "execution_count": 47,
   "metadata": {},
   "outputs": [
    {
     "data": {
      "text/html": [
       "<div>\n",
       "<style scoped>\n",
       "    .dataframe tbody tr th:only-of-type {\n",
       "        vertical-align: middle;\n",
       "    }\n",
       "\n",
       "    .dataframe tbody tr th {\n",
       "        vertical-align: top;\n",
       "    }\n",
       "\n",
       "    .dataframe thead th {\n",
       "        text-align: right;\n",
       "    }\n",
       "</style>\n",
       "<table border=\"1\" class=\"dataframe\">\n",
       "  <thead>\n",
       "    <tr style=\"text-align: right;\">\n",
       "      <th></th>\n",
       "      <th>Purchase Count</th>\n",
       "      <th>Average Purchase Price</th>\n",
       "      <th>Total Purchase Value</th>\n",
       "      <th>Avg Total Purchase per Person</th>\n",
       "    </tr>\n",
       "    <tr>\n",
       "      <th>Gender</th>\n",
       "      <th></th>\n",
       "      <th></th>\n",
       "      <th></th>\n",
       "      <th></th>\n",
       "    </tr>\n",
       "  </thead>\n",
       "  <tbody>\n",
       "    <tr>\n",
       "      <th>Male</th>\n",
       "      <td>652</td>\n",
       "      <td>3.02</td>\n",
       "      <td>1967.64</td>\n",
       "      <td>0</td>\n",
       "    </tr>\n",
       "    <tr>\n",
       "      <th>Female</th>\n",
       "      <td>113</td>\n",
       "      <td>3.20</td>\n",
       "      <td>361.94</td>\n",
       "      <td>0</td>\n",
       "    </tr>\n",
       "    <tr>\n",
       "      <th>Other / Non-Disclosed</th>\n",
       "      <td>15</td>\n",
       "      <td>3.35</td>\n",
       "      <td>50.19</td>\n",
       "      <td>0</td>\n",
       "    </tr>\n",
       "  </tbody>\n",
       "</table>\n",
       "</div>"
      ],
      "text/plain": [
       "                       Purchase Count Average Purchase Price  \\\n",
       "Gender                                                         \n",
       "Male                              652                   3.02   \n",
       "Female                            113                   3.20   \n",
       "Other / Non-Disclosed              15                   3.35   \n",
       "\n",
       "                       Total Purchase Value  Avg Total Purchase per Person  \n",
       "Gender                                                                      \n",
       "Male                                1967.64                              0  \n",
       "Female                               361.94                              0  \n",
       "Other / Non-Disclosed                 50.19                              0  "
      ]
     },
     "execution_count": 47,
     "metadata": {},
     "output_type": "execute_result"
    }
   ],
   "source": [
    "#get avg purchase price for male\n",
    "avg_male_purchase = male_df['Price'].mean()\n",
    "\n",
    "\n",
    "#get avg purchase price for female\n",
    "avg_female_purchase = female_df['Price'].mean()\n",
    "\n",
    "#get avg purchase price for other\n",
    "avg_other_purchase = other_df['Price'].mean()\n",
    "\n",
    "#get total purchase value for male\n",
    "total_male_purchase = male_df['Price'].sum()\n",
    "\n",
    "#get total purchase value for female\n",
    "total_female_purchase = female_df['Price'].sum()\n",
    "\n",
    "#get total purchase value for other\n",
    "total_other_purchase = other_df['Price'].sum()\n",
    "\n",
    "#get avg purchase value per person male/female/other\n",
    "\n",
    "\n",
    "#create data frame to display \n",
    "\n",
    "purchase_by_gender = {'Gender':['Male','Female','Other / Non-Disclosed'], \n",
    "                      'Purchase Count': [total_male, total_women, total_other], \n",
    "             'Average Purchase Price': [\"%0.2f\" % avg_male_purchase, \"%0.2f\" % avg_female_purchase, \n",
    "                                        \"%0.2f\" % avg_other_purchase],\n",
    "                     'Total Purchase Value': [total_male_purchase, total_female_purchase,\n",
    "                                             total_other_purchase],\n",
    "                     'Avg Total Purchase per Person':[0,0,0]}\n",
    "purchase_by_gender_df = pd.DataFrame(purchase_by_gender).set_index('Gender')\n",
    "purchase_by_gender_df.head()"
   ]
  },
  {
   "cell_type": "markdown",
   "metadata": {},
   "source": [
    "## Age Demographics"
   ]
  },
  {
   "cell_type": "markdown",
   "metadata": {},
   "source": [
    "* Establish bins for ages\n",
    "\n",
    "\n",
    "* Categorize the existing players using the age bins. Hint: use pd.cut()\n",
    "\n",
    "\n",
    "* Calculate the numbers and percentages by age group\n",
    "\n",
    "\n",
    "* Create a summary data frame to hold the results\n",
    "\n",
    "\n",
    "* Optional: round the percentage column to two decimal points\n",
    "\n",
    "\n",
    "* Display Age Demographics Table\n"
   ]
  },
  {
   "cell_type": "code",
   "execution_count": 48,
   "metadata": {},
   "outputs": [
    {
     "name": "stdout",
     "output_type": "stream",
     "text": [
      "            Total Percentage\n",
      "Age Groups                  \n",
      "<10            17      2.95%\n",
      "10-14          22      3.82%\n",
      "15-19         107     18.58%\n",
      "20-24         258     44.79%\n",
      "25-29          77     13.37%\n",
      "30-34          52      9.03%\n",
      "35-39          31      5.38%\n",
      ">40            12      2.08%\n"
     ]
    }
   ],
   "source": [
    "#Obtain bins for ages\n",
    "bins = [0, 9, 14, 19, 24, 29, 34, 39, 150]\n",
    "\n",
    "#age groups \n",
    "ag_groups = ['<10', '10-14', '15-19', '20-24', '25-29', '30-34', '35-39', '>40']\n",
    "\n",
    "purchase_data['Age Groups'] = pd.cut(purchase_data[\"Age\"], bins, labels = ag_groups)\n",
    "\n",
    "age_df = purchase_data.groupby(\"Age Groups\")\n",
    "age_total = age_df[\"SN\"].nunique()\n",
    "age_percent = (age_total / total_players) * 100\n",
    "\n",
    "age_info_df = pd.DataFrame({\"Total\": age_total, \"Percentage\": age_percent})\n",
    "\n",
    "age_info_df['Percentage'] = age_info_df['Percentage'].map(\"{:,.2f}%\".format)\n",
    "\n",
    "print(age_info_df)\n",
    "\n"
   ]
  },
  {
   "cell_type": "markdown",
   "metadata": {},
   "source": [
    "## Purchasing Analysis (Age)"
   ]
  },
  {
   "cell_type": "markdown",
   "metadata": {},
   "source": [
    "* Bin the purchase_data data frame by age\n",
    "\n",
    "\n",
    "* Run basic calculations to obtain purchase count, avg. purchase price, avg. purchase total per person etc. in the table below\n",
    "\n",
    "\n",
    "* Create a summary data frame to hold the results\n",
    "\n",
    "\n",
    "* Optional: give the displayed data cleaner formatting\n",
    "\n",
    "\n",
    "* Display the summary data frame"
   ]
  },
  {
   "cell_type": "code",
   "execution_count": 49,
   "metadata": {},
   "outputs": [
    {
     "name": "stdout",
     "output_type": "stream",
     "text": [
      "            Total Purchases  Average Price  Average Purchase Total  \\\n",
      "Age Groups                                                           \n",
      "<10                      23       3.353478                   77.13   \n",
      "10-14                    28       2.956429                   82.78   \n",
      "15-19                   136       3.035956                  412.89   \n",
      "20-24                   365       3.052219                 1114.06   \n",
      "25-29                   101       2.900990                  293.00   \n",
      "30-34                    73       2.931507                  214.00   \n",
      "35-39                    41       3.601707                  147.67   \n",
      ">40                      13       2.941538                   38.24   \n",
      "\n",
      "            Purchase Total per Person  \n",
      "Age Groups                             \n",
      "<10                          4.537059  \n",
      "10-14                        3.762727  \n",
      "15-19                        3.858785  \n",
      "20-24                        4.318062  \n",
      "25-29                        3.805195  \n",
      "30-34                        4.115385  \n",
      "35-39                        4.763548  \n",
      ">40                          3.186667  \n"
     ]
    }
   ],
   "source": [
    "#average based on age \n",
    "total_age_count = age_df[\"Purchase ID\"].count()\n",
    "avg_age_purchase = age_df[\"Price\"].mean()\n",
    "avg_age_total = age_df[\"Price\"].sum()\n",
    "avg_age = avg_age_total/age_total\n",
    "\n",
    "purchase_analysis = pd.DataFrame({\"Total Purchases\": total_age_count, \n",
    "                                    \"Average Price\": avg_age_purchase,\n",
    "                                    \"Average Purchase Total\": avg_age_total,\n",
    "                                    \"Purchase Total per Person\": avg_age})\n",
    "\n",
    "print(purchase_analysis)"
   ]
  },
  {
   "cell_type": "markdown",
   "metadata": {},
   "source": [
    "## Top Spenders"
   ]
  },
  {
   "cell_type": "markdown",
   "metadata": {},
   "source": [
    "* Run basic calculations to obtain the results in the table below\n",
    "\n",
    "\n",
    "* Create a summary data frame to hold the results\n",
    "\n",
    "\n",
    "* Sort the total purchase value column in descending order\n",
    "\n",
    "\n",
    "* Optional: give the displayed data cleaner formatting\n",
    "\n",
    "\n",
    "* Display a preview of the summary data frame\n",
    "\n"
   ]
  },
  {
   "cell_type": "code",
   "execution_count": 52,
   "metadata": {},
   "outputs": [
    {
     "name": "stdout",
     "output_type": "stream",
     "text": [
      "             Puchase Count  Average Purchase Price  Total Purchase Value\n",
      "SN                                                                      \n",
      "Lisosia93                5                3.792000                 18.96\n",
      "Idastidru52              4                3.862500                 15.45\n",
      "Chamjask73               3                4.610000                 13.83\n",
      "Iral74                   4                3.405000                 13.62\n",
      "Iskadarya95              3                4.366667                 13.10\n",
      "...                    ...                     ...                   ...\n",
      "Ililsasya43              1                1.020000                  1.02\n",
      "Irilis75                 1                1.020000                  1.02\n",
      "Aidai61                  1                1.010000                  1.01\n",
      "Chanirra79               1                1.010000                  1.01\n",
      "Alo38                    1                1.000000                  1.00\n",
      "\n",
      "[576 rows x 3 columns]\n"
     ]
    }
   ],
   "source": [
    "#average based on sn\n",
    "spender_df = purchase_data.groupby(\"SN\")\n",
    "spender_count = spender_df[\"Purchase ID\"].count()\n",
    "avg_spender_purchase = spender_df[\"Price\"].mean()\n",
    "spender_totalp = spender_df[\"Price\"].sum()\n",
    "\n",
    "top_spenders = pd.DataFrame({\"Puchase Count\": spender_count, \n",
    "                                    \"Average Purchase Price\": avg_spender_purchase,\n",
    "                                \"Total Purchase Value\": spender_totalp})\n",
    "\n",
    "top_spenders = top_spenders.sort_values([\"Total Purchase Value\"], ascending=  False)                     \n",
    "print(top_spenders)\n"
   ]
  },
  {
   "cell_type": "markdown",
   "metadata": {},
   "source": [
    "## Most Popular Items"
   ]
  },
  {
   "cell_type": "markdown",
   "metadata": {},
   "source": [
    "* Retrieve the Item ID, Item Name, and Item Price columns\n",
    "\n",
    "\n",
    "* Group by Item ID and Item Name. Perform calculations to obtain purchase count, item price, and total purchase value\n",
    "\n",
    "\n",
    "* Create a summary data frame to hold the results\n",
    "\n",
    "\n",
    "* Sort the purchase count column in descending order\n",
    "\n",
    "\n",
    "* Optional: give the displayed data cleaner formatting\n",
    "\n",
    "\n",
    "* Display a preview of the summary data frame\n",
    "\n"
   ]
  },
  {
   "cell_type": "code",
   "execution_count": 53,
   "metadata": {},
   "outputs": [
    {
     "name": "stdout",
     "output_type": "stream",
     "text": [
      "                                                      Purchase Count  \\\n",
      "Item ID Item Name                                                      \n",
      "92      Final Critic                                              13   \n",
      "178     Oathbreaker, Last Hope of the Breaking Storm              12   \n",
      "145     Fiery Glass Crusader                                       9   \n",
      "132     Persuasion                                                 9   \n",
      "108     Extraction, Quickblade Of Trembling Hands                  9   \n",
      "...                                                              ...   \n",
      "42      The Decapitator                                            1   \n",
      "51      Endbringer                                                 1   \n",
      "118     Ghost Reaver, Longsword of Magic                           1   \n",
      "104     Gladiator's Glaive                                         1   \n",
      "91      Celeste                                                    1   \n",
      "\n",
      "                                                      Item Price  \\\n",
      "Item ID Item Name                                                  \n",
      "92      Final Critic                                    4.614615   \n",
      "178     Oathbreaker, Last Hope of the Breaking Storm    4.230000   \n",
      "145     Fiery Glass Crusader                            4.580000   \n",
      "132     Persuasion                                      3.221111   \n",
      "108     Extraction, Quickblade Of Trembling Hands       3.530000   \n",
      "...                                                          ...   \n",
      "42      The Decapitator                                 1.750000   \n",
      "51      Endbringer                                      4.660000   \n",
      "118     Ghost Reaver, Longsword of Magic                2.170000   \n",
      "104     Gladiator's Glaive                              1.930000   \n",
      "91      Celeste                                         4.170000   \n",
      "\n",
      "                                                      Total Purchase Value  \n",
      "Item ID Item Name                                                           \n",
      "92      Final Critic                                                 59.99  \n",
      "178     Oathbreaker, Last Hope of the Breaking Storm                 50.76  \n",
      "145     Fiery Glass Crusader                                         41.22  \n",
      "132     Persuasion                                                   28.99  \n",
      "108     Extraction, Quickblade Of Trembling Hands                    31.77  \n",
      "...                                                                    ...  \n",
      "42      The Decapitator                                               1.75  \n",
      "51      Endbringer                                                    4.66  \n",
      "118     Ghost Reaver, Longsword of Magic                              2.17  \n",
      "104     Gladiator's Glaive                                            1.93  \n",
      "91      Celeste                                                       4.17  \n",
      "\n",
      "[179 rows x 3 columns]\n"
     ]
    }
   ],
   "source": [
    "#retrieve item name \n",
    "item_df = purchase_data[['Item ID','Item Name','Price']].set_index('Item ID')\n",
    "group_items = item_df.groupby([\"Item ID\", \"Item Name\"])\n",
    "\n",
    "purchase_count = group_items[\"Price\"].count()\n",
    "total_pValue = group_items[\"Price\"].sum()\n",
    "item_price = total_pValue/purchase_count\n",
    "\n",
    "popular_items_df = pd.DataFrame({\"Purchase Count\": purchase_count,\n",
    "                                \"Item Price\": item_price,\n",
    "                                \"Total Purchase Value\": total_pValue})\n",
    "\n",
    "popular_items_df = popular_items_df.sort_values([\"Purchase Count\"], ascending=False)\n",
    "\n",
    "print(popular_items_df)\n",
    "\n"
   ]
  },
  {
   "cell_type": "markdown",
   "metadata": {},
   "source": [
    "## Most Profitable Items"
   ]
  },
  {
   "cell_type": "markdown",
   "metadata": {},
   "source": [
    "* Sort the above table by total purchase value in descending order\n",
    "\n",
    "\n",
    "* Optional: give the displayed data cleaner formatting\n",
    "\n",
    "\n",
    "* Display a preview of the data frame\n",
    "\n"
   ]
  },
  {
   "cell_type": "code",
   "execution_count": 54,
   "metadata": {
    "scrolled": true
   },
   "outputs": [
    {
     "name": "stdout",
     "output_type": "stream",
     "text": [
      "                                                      Purchase Count  \\\n",
      "Item ID Item Name                                                      \n",
      "92      Final Critic                                              13   \n",
      "178     Oathbreaker, Last Hope of the Breaking Storm              12   \n",
      "82      Nirvana                                                    9   \n",
      "145     Fiery Glass Crusader                                       9   \n",
      "103     Singed Scalpel                                             8   \n",
      "...                                                              ...   \n",
      "28      Flux, Destroyer of Due Diligence                           2   \n",
      "126     Exiled Mithril Longsword                                   1   \n",
      "125     Whistling Mithril Warblade                                 2   \n",
      "104     Gladiator's Glaive                                         1   \n",
      "42      The Decapitator                                            1   \n",
      "\n",
      "                                                      Item Price  \\\n",
      "Item ID Item Name                                                  \n",
      "92      Final Critic                                    4.614615   \n",
      "178     Oathbreaker, Last Hope of the Breaking Storm    4.230000   \n",
      "82      Nirvana                                         4.900000   \n",
      "145     Fiery Glass Crusader                            4.580000   \n",
      "103     Singed Scalpel                                  4.350000   \n",
      "...                                                          ...   \n",
      "28      Flux, Destroyer of Due Diligence                1.060000   \n",
      "126     Exiled Mithril Longsword                        2.000000   \n",
      "125     Whistling Mithril Warblade                      1.000000   \n",
      "104     Gladiator's Glaive                              1.930000   \n",
      "42      The Decapitator                                 1.750000   \n",
      "\n",
      "                                                      Total Purchase Value  \n",
      "Item ID Item Name                                                           \n",
      "92      Final Critic                                                 59.99  \n",
      "178     Oathbreaker, Last Hope of the Breaking Storm                 50.76  \n",
      "82      Nirvana                                                      44.10  \n",
      "145     Fiery Glass Crusader                                         41.22  \n",
      "103     Singed Scalpel                                               34.80  \n",
      "...                                                                    ...  \n",
      "28      Flux, Destroyer of Due Diligence                              2.12  \n",
      "126     Exiled Mithril Longsword                                      2.00  \n",
      "125     Whistling Mithril Warblade                                    2.00  \n",
      "104     Gladiator's Glaive                                            1.93  \n",
      "42      The Decapitator                                               1.75  \n",
      "\n",
      "[179 rows x 3 columns]\n"
     ]
    }
   ],
   "source": [
    "popular_items_df = popular_items_df.sort_values([\"Total Purchase Value\"], ascending=False)\n",
    "\n",
    "print(popular_items_df)"
   ]
  },
  {
   "cell_type": "code",
   "execution_count": null,
   "metadata": {},
   "outputs": [],
   "source": []
  }
 ],
 "metadata": {
  "anaconda-cloud": {},
  "kernel_info": {
   "name": "python3"
  },
  "kernelspec": {
   "display_name": "Python 3",
   "language": "python",
   "name": "python3"
  },
  "language_info": {
   "codemirror_mode": {
    "name": "ipython",
    "version": 3
   },
   "file_extension": ".py",
   "mimetype": "text/x-python",
   "name": "python",
   "nbconvert_exporter": "python",
   "pygments_lexer": "ipython3",
   "version": "3.7.6"
  },
  "latex_envs": {
   "LaTeX_envs_menu_present": true,
   "autoclose": false,
   "autocomplete": true,
   "bibliofile": "biblio.bib",
   "cite_by": "apalike",
   "current_citInitial": 1,
   "eqLabelWithNumbers": true,
   "eqNumInitial": 1,
   "hotkeys": {
    "equation": "Ctrl-E",
    "itemize": "Ctrl-I"
   },
   "labels_anchors": false,
   "latex_user_defs": false,
   "report_style_numbering": false,
   "user_envs_cfg": false
  },
  "nteract": {
   "version": "0.2.0"
  }
 },
 "nbformat": 4,
 "nbformat_minor": 2
}
